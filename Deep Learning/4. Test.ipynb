{
 "cells": [
  {
   "cell_type": "code",
   "execution_count": 23,
   "metadata": {},
   "outputs": [],
   "source": [
    "import keras\n",
    "import pandas as pd \n",
    "import numpy as np \n",
    "from tqdm import tqdm\n",
    "import keras.utils as image\n",
    "import matplotlib.pyplot as plt\n",
    "import cv2\n",
    "from PIL import Image\n",
    "from keras.models import load_model"
   ]
  },
  {
   "cell_type": "code",
   "execution_count": 24,
   "metadata": {},
   "outputs": [],
   "source": [
    "def arrange_data(df):\n",
    "    image_data = []\n",
    "    img_paths = np.asarray(df.iloc[:, 0])\n",
    "    \n",
    "    for i in tqdm(range(len(img_paths))):\n",
    "        img = image.load_img(img_paths[i],target_size=(200,150,3))\n",
    "        img = image.img_to_array(img)\n",
    "        img = img/255\n",
    "        image_data.append(img) \n",
    "        \n",
    "    X = np.array(image_data)\n",
    "    Y = np.array(df.iloc[:,1:29])\n",
    "    \n",
    "    return X, Y"
   ]
  },
  {
   "cell_type": "code",
   "execution_count": 25,
   "metadata": {},
   "outputs": [],
   "source": [
    "def accuracy_score(test_path, model_path):\n",
    "    test_df = pd.read_csv(test_path, delimiter=\" \")\n",
    "    X_test, Y_test = arrange_data(test_df)\n",
    "\n",
    "    model = load_model(model_path)\n",
    "    pred = model.predict(np.array(X_test))\n",
    "\n",
    "    count = 0\n",
    "    for i in tqdm(range(len(pred))):\n",
    "        value = 0\n",
    "        \n",
    "        first3_index = np.argsort(pred[i])[-3:]\n",
    "        correct = np.where(Y_test[i] == 1)[0]\n",
    "        \n",
    "        for j in first3_index:\n",
    "            if j in correct:\n",
    "                value += 1\n",
    "                \n",
    "        if (value > 0):\n",
    "            count = count + 1\n",
    "    \n",
    "    print(\"Total Test Dataset:\", len(pred))\n",
    "    print(\"Correctly Predicted:\", count)\n",
    "    print(\"Accuracy:\", count/len(pred))"
   ]
  },
  {
   "cell_type": "code",
   "execution_count": null,
   "metadata": {},
   "outputs": [],
   "source": [
    "accuracy_score(\"CSV/Test.csv\", \"Model_Custom.h5\")"
   ]
  },
  {
   "cell_type": "code",
   "execution_count": null,
   "metadata": {},
   "outputs": [],
   "source": [
    "accuracy_score(\"CSV/Test.csv\", \"Model_VGG.h5\")"
   ]
  }
 ],
 "metadata": {
  "kernelspec": {
   "display_name": "tf",
   "language": "python",
   "name": "python3"
  },
  "language_info": {
   "codemirror_mode": {
    "name": "ipython",
    "version": 3
   },
   "file_extension": ".py",
   "mimetype": "text/x-python",
   "name": "python",
   "nbconvert_exporter": "python",
   "pygments_lexer": "ipython3",
   "version": "3.10.10"
  },
  "orig_nbformat": 4
 },
 "nbformat": 4,
 "nbformat_minor": 2
}
